{
 "cells": [
  {
   "cell_type": "markdown",
   "metadata": {},
   "source": [
    "# PyTorch three layer Convolutional Neural Network (CNN)\n",
    "Now that you have implemented and understood all the necessary layers, we want to train a convolutional neural network. But training with our naive versions would not be feasible even for comparatively small networks. Since you already learned about losses, training procedures and solvers in the previous exercises we now want to introduce a modern deep learning framework called PyTorch (see `README.md` for installation help).\n",
    "\n",
    "These frameworks facilitate network training and prototyping by providing useful helper functions and optimized versions of the most common layers and solvers. Check out the following links to make yourself familiar with PyTorch and how to implement a small network. Keep in mind the network graph structure discussed in the lecture.\n",
    "\n",
    "http://pytorch.org/tutorials/\n",
    "\n",
    "https://github.com/pytorch/examples\n",
    "\n",
    "https://github.com/jcjohnson/pytorch-examples"
   ]
  },
  {
   "cell_type": "code",
   "execution_count": 1,
   "metadata": {
    "collapsed": false
   },
   "outputs": [],
   "source": [
    "import numpy as np\n",
    "import matplotlib.pyplot as plt\n",
    "import torch\n",
    "from torch.autograd import Variable\n",
    "\n",
    "from dl4cv.classifiers.cnn import ThreeLayerCNN\n",
    "from dl4cv.data_utils import get_CIFAR10_data, OverfitSampler\n",
    "from dl4cv.gradient_check import rel_error\n",
    "\n",
    "#torch.set_default_tensor_type('torch.FloatTensor')\n",
    "\n",
    "%matplotlib inline\n",
    "plt.rcParams['figure.figsize'] = (10.0, 8.0) # set default size of plots\n",
    "plt.rcParams['image.interpolation'] = 'nearest'\n",
    "plt.rcParams['image.cmap'] = 'gray'\n",
    "\n",
    "# for auto-reloading external modules\n",
    "# see http://stackoverflow.com/questions/1907993/autoreload-of-modules-in-ipython\n",
    "%load_ext autoreload\n",
    "%autoreload 2"
   ]
  },
  {
   "cell_type": "markdown",
   "metadata": {},
   "source": [
    "## Train and validation data\n",
    "For an easier management of the train and validation data pipelines we provide you with custom `torch.utils.data.Dataset` classes. Make yourself familiar with those `Dataset` classes as well as the `DataLoader` and how you have to integrate them in your training. The `num_workers` attribute allows you to preprocess data with multiple threads.\n",
    "\n",
    "http://pytorch.org/docs/data.html"
   ]
  },
  {
   "cell_type": "code",
   "execution_count": 2,
   "metadata": {
    "collapsed": false
   },
   "outputs": [
    {
     "name": "stdout",
     "output_type": "stream",
     "text": [
      "Train size: 48000\n",
      "Val size: 1000\n",
      "Test size: 1000\n"
     ]
    }
   ],
   "source": [
    "# Load the (preprocessed) CIFAR10 data. Preprocessing and dataset splitting is done\n",
    "# as in 1_softmax.ipynb from exercise 1.\n",
    "# This can take a while.\n",
    "\n",
    "train_data, val_data, test_data, mean_image = get_CIFAR10_data()\n",
    "print(\"Train size: %i\" % len(train_data))\n",
    "print(\"Val size: %i\" % len(val_data))\n",
    "print(\"Test size: %i\" % len(test_data))"
   ]
  },
  {
   "cell_type": "code",
   "execution_count": 3,
   "metadata": {
    "collapsed": false
   },
   "outputs": [
    {
     "name": "stdout",
     "output_type": "stream",
     "text": [
      "Img size: torch.Size([3, 32, 32])\n",
      "Example image:\n"
     ]
    },
    {
     "data": {
      "image/png": "[encoded data removed]",
      "text/plain": [
       "<matplotlib.figure.Figure at 0x7f05fb9f5bd0>"
      ]
     },
     "metadata": {},
     "output_type": "display_data"
    }
   ],
   "source": [
    "img, label = train_data[2]\n",
    "print(\"Img size: \" + str(img.size()))\n",
    "plt.figure(figsize = (10,1))\n",
    "print(\"Example image:\")\n",
    "plt.imshow(img.numpy().transpose(1,2,0) + mean_image.transpose(1,2,0))\n",
    "plt.show()"
   ]
  },
  {
   "cell_type": "markdown",
   "metadata": {},
   "source": [
    "## Model initialization and forward pass \n",
    "\n",
    "After you understood the core concepts of PyTorch and have a rough idea on how to implement your own model complete the initialization and forward methods of the `ThreeLayerCNN` in the `dl4cv/classifiers/cnn.py` file. Note that we do not have to implement a backward pass since this is automatically done by the framework using its dynamic graph structure.\n",
    "\n",
    "Use the cell below to check your results."
   ]
  },
  {
   "cell_type": "code",
   "execution_count": 4,
   "metadata": {
    "collapsed": false
   },
   "outputs": [
    {
     "name": "stdout",
     "output_type": "stream",
     "text": [
      "Difference between the correct and your forward pass:\n",
      "0.907557864572\n"
     ]
    }
   ],
   "source": [
    "from dl4cv.classifiers.cnn import ThreeLayerCNN\n",
    "\n",
    "torch.manual_seed(0)\n",
    "np.random.seed(0)\n",
    "\n",
    "X = np.random.randn(2, 3, 5, 5).astype(np.float32)\n",
    "X_tensor = torch.from_numpy(X.copy())\n",
    "inputs = Variable(X_tensor)\n",
    "\n",
    "model = ThreeLayerCNN(input_dim=(3, 5, 5), num_classes=3)\n",
    "outputs = model.forward(inputs)\n",
    "correct_outputs = np.array([[-0.012747,    0.05964366,  0.03898076],\n",
    "                            [-0.01286934,  0.05963349,  0.03903975]])\n",
    "\n",
    "# The difference should be very small. We get < 1e-6\n",
    "print 'Difference between the correct and your forward pass:'\n",
    "print rel_error(correct_outputs, outputs.data.numpy())"
   ]
  },
  {
   "cell_type": "markdown",
   "metadata": {},
   "source": [
    "## Training and validation with the Solver\n",
    "We train and validate our previously generated model with a seperate `Solver` class defined in `dl4cv/classifiers/solver.py`. Complete the training method and try to come up with an efficient iteration scheme as well as an informative training logger.\n",
    "\n",
    "Use the cells below to test your solver. A nice trick is to train your model with just a few training samples. You should be able to overfit small datasets, which will result in very high training accuracy and comparatively low validation accuracy."
   ]
  },
  {
   "cell_type": "code",
   "execution_count": 5,
   "metadata": {
    "collapsed": false
   },
   "outputs": [
    {
     "name": "stdout",
     "output_type": "stream",
     "text": [
      "START TRAIN.\n",
      "[Iteration 0/2] Train loss: 2.3126\n",
      "[Iteration 1/2] Train loss: 5.5065\n",
      "[Epoch 0/10] Train acc/loss: 0.1200/5.5065\n",
      "[Epoch 0/10] Val acc/loss: 0.1150/3.4676\n",
      "[Iteration 0/2] Train loss: 3.3400\n",
      "[Iteration 1/2] Train loss: 3.1495\n",
      "[Epoch 1/10] Train acc/loss: 0.0800/3.1495\n",
      "[Epoch 1/10] Val acc/loss: 0.1290/3.0007\n",
      "[Iteration 0/2] Train loss: 3.2007\n",
      "[Iteration 1/2] Train loss: 2.1822\n",
      "[Epoch 2/10] Train acc/loss: 0.2600/2.1822\n",
      "[Epoch 2/10] Val acc/loss: 0.1860/2.2316\n",
      "[Iteration 0/2] Train loss: 2.2307\n",
      "[Iteration 1/2] Train loss: 1.9677\n",
      "[Epoch 3/10] Train acc/loss: 0.3400/1.9677\n",
      "[Epoch 3/10] Val acc/loss: 0.1830/2.0889\n",
      "[Iteration 0/2] Train loss: 1.8332\n",
      "[Iteration 1/2] Train loss: 1.5916\n",
      "[Epoch 4/10] Train acc/loss: 0.4200/1.5916\n",
      "[Epoch 4/10] Val acc/loss: 0.2170/2.3003\n",
      "[Iteration 0/2] Train loss: 1.5679\n",
      "[Iteration 1/2] Train loss: 1.4227\n",
      "[Epoch 5/10] Train acc/loss: 0.5800/1.4227\n",
      "[Epoch 5/10] Val acc/loss: 0.1970/2.5354\n",
      "[Iteration 0/2] Train loss: 1.2700\n",
      "[Iteration 1/2] Train loss: 1.1548\n",
      "[Epoch 6/10] Train acc/loss: 0.6600/1.1548\n",
      "[Epoch 6/10] Val acc/loss: 0.2250/2.6418\n",
      "[Iteration 0/2] Train loss: 0.9917\n",
      "[Iteration 1/2] Train loss: 0.8347\n",
      "[Epoch 7/10] Train acc/loss: 0.8200/0.8347\n",
      "[Epoch 7/10] Val acc/loss: 0.2210/3.0890\n",
      "[Iteration 0/2] Train loss: 0.7590\n",
      "[Iteration 1/2] Train loss: 0.5995\n",
      "[Epoch 8/10] Train acc/loss: 0.8200/0.5995\n",
      "[Epoch 8/10] Val acc/loss: 0.2140/3.4608\n",
      "[Iteration 0/2] Train loss: 0.5647\n",
      "[Iteration 1/2] Train loss: 0.4091\n",
      "[Epoch 9/10] Train acc/loss: 0.9000/0.4091\n",
      "[Epoch 9/10] Val acc/loss: 0.2170/3.8930\n",
      "FINISH.\n"
     ]
    }
   ],
   "source": [
    "from dl4cv.classifiers.cnn import ThreeLayerCNN\n",
    "from dl4cv.classifiers.solver import Solver\n",
    "\n",
    "num_train = 100\n",
    "train_loader = torch.utils.data.DataLoader(train_data, batch_size=50, shuffle=False, num_workers=4,\n",
    "                                           sampler=OverfitSampler(num_train))\n",
    "val_loader = torch.utils.data.DataLoader(val_data, batch_size=50, shuffle=False, num_workers=4)\n",
    "\n",
    "overfit_model = ThreeLayerCNN()\n",
    "overfit_solver = Solver(optim_args={\"lr\": 1e-2})\n",
    "overfit_solver.train(overfit_model, train_loader, val_loader,  num_epochs=10,log_nth=1)"
   ]
  },
  {
   "cell_type": "markdown",
   "metadata": {},
   "source": [
    "Plotting the loss, training accuracy, and validation accuracy should show clear overfitting:"
   ]
  },
  {
   "cell_type": "code",
   "execution_count": 6,
   "metadata": {
    "collapsed": false
   },
   "outputs": [
    {
     "data": {
      "image/png": "[encoded data removed]",
      "text/plain": [
       "<matplotlib.figure.Figure at 0x7f05fb71a590>"
      ]
     },
     "metadata": {},
     "output_type": "display_data"
    }
   ],
   "source": [
    "plt.subplot(2, 1, 1)\n",
    "plt.plot(overfit_solver.train_loss_history, 'o')\n",
    "plt.xlabel('iteration')\n",
    "plt.ylabel('loss')\n",
    "\n",
    "plt.subplot(2, 1, 2)\n",
    "plt.plot(overfit_solver.train_acc_history, '-o')\n",
    "plt.plot(overfit_solver.val_acc_history, '-o')\n",
    "plt.legend(['train', 'val'], loc='upper left')\n",
    "plt.xlabel('epoch')\n",
    "plt.ylabel('accuracy')\n",
    "plt.show()"
   ]
  },
  {
   "cell_type": "markdown",
   "metadata": {},
   "source": [
    "## Train the net\n",
    "By training the three-layer convolutional network for one epoch, you should achieve greater than 40% accuracy on the validation set."
   ]
  },
  {
   "cell_type": "code",
   "execution_count": 7,
   "metadata": {
    "collapsed": false,
    "scrolled": false
   },
   "outputs": [
    {
     "name": "stdout",
     "output_type": "stream",
     "text": [
      "START TRAIN.\n",
      "[Iteration 99/960] Train loss: 1.8289\n",
      "[Iteration 199/960] Train loss: 1.6656\n",
      "[Iteration 299/960] Train loss: 1.4267\n",
      "[Iteration 399/960] Train loss: 1.4825\n",
      "[Iteration 499/960] Train loss: 1.2262\n",
      "[Iteration 599/960] Train loss: 1.3679\n",
      "[Iteration 699/960] Train loss: 1.6938\n",
      "[Iteration 799/960] Train loss: 1.2366\n",
      "[Iteration 899/960] Train loss: 1.1265\n",
      "[Epoch 0/3] Train acc/loss: 0.6000/1.1277\n",
      "[Epoch 0/3] Val acc/loss: 0.5610/1.0757\n",
      "[Iteration 99/960] Train loss: 1.2370\n",
      "[Iteration 199/960] Train loss: 1.0462\n",
      "[Iteration 299/960] Train loss: 1.1605\n",
      "[Iteration 399/960] Train loss: 0.9084\n",
      "[Iteration 499/960] Train loss: 1.1562\n",
      "[Iteration 599/960] Train loss: 1.0015\n",
      "[Iteration 699/960] Train loss: 1.2098\n",
      "[Iteration 799/960] Train loss: 0.9453\n",
      "[Iteration 899/960] Train loss: 1.3110\n",
      "[Epoch 1/3] Train acc/loss: 0.6800/0.9399\n",
      "[Epoch 1/3] Val acc/loss: 0.6200/0.7473\n",
      "[Iteration 99/960] Train loss: 0.9315\n",
      "[Iteration 199/960] Train loss: 1.0810\n",
      "[Iteration 299/960] Train loss: 1.1561\n",
      "[Iteration 399/960] Train loss: 1.2702\n",
      "[Iteration 499/960] Train loss: 0.9632\n",
      "[Iteration 599/960] Train loss: 1.2481\n",
      "[Iteration 699/960] Train loss: 0.9557\n",
      "[Iteration 799/960] Train loss: 1.1205\n",
      "[Iteration 899/960] Train loss: 0.9920\n",
      "[Epoch 2/3] Train acc/loss: 0.5400/1.1353\n",
      "[Epoch 2/3] Val acc/loss: 0.6430/0.8367\n",
      "FINISH.\n"
     ]
    }
   ],
   "source": [
    "from dl4cv.classifiers.cnn import ThreeLayerCNN\n",
    "from dl4cv.classifiers.solver import Solver\n",
    "\n",
    "train_loader = torch.utils.data.DataLoader(train_data, batch_size=50, shuffle=True, num_workers=4)\n",
    "val_loader = torch.utils.data.DataLoader(val_data, batch_size=50, shuffle=False, num_workers=4)\n",
    "\n",
    "############################################################################\n",
    "# TODO: Train your network and find the best hyperparameters               #\n",
    "############################################################################\n",
    "\n",
    "        \n",
    "model = ThreeLayerCNN(hidden_dim=500)\n",
    "solver = Solver(optim_args={\"lr\": 1e-3, \"weight_decay\": 0.001})\n",
    "solver.train(model, train_loader, val_loader, log_nth=100, num_epochs=3)"
   ]
  },
  {
   "cell_type": "markdown",
   "metadata": {},
   "source": [
    "## Visualize Filters\n",
    "You can visualize the first-layer convolutional filters from the trained network by running the following. If your kernel visualizations do not exhibit clear structures try optimizing the weight scale:"
   ]
  },
  {
   "cell_type": "code",
   "execution_count": 8,
   "metadata": {
    "collapsed": false,
    "scrolled": false
   },
   "outputs": [
    {
     "ename": "AttributeError",
     "evalue": "'ThreeLayerCNN' object has no attribute 'conv'",
     "output_type": "error",
     "traceback": [
      "\u001b[0;31m---------------------------------------------------------------------------\u001b[0m",
      "\u001b[0;31mAttributeError\u001b[0m                            Traceback (most recent call last)",
      "\u001b[0;32m<ipython-input-8-5ccc4f17ebdc>\u001b[0m in \u001b[0;36m<module>\u001b[0;34m()\u001b[0m\n\u001b[1;32m      1\u001b[0m \u001b[0;32mfrom\u001b[0m \u001b[0mdl4cv\u001b[0m\u001b[0;34m.\u001b[0m\u001b[0mvis_utils\u001b[0m \u001b[0;32mimport\u001b[0m \u001b[0mvisualize_grid\u001b[0m\u001b[0;34m\u001b[0m\u001b[0m\n\u001b[1;32m      2\u001b[0m \u001b[0;34m\u001b[0m\u001b[0m\n\u001b[0;32m----> 3\u001b[0;31m \u001b[0mconv_params\u001b[0m \u001b[0;34m=\u001b[0m \u001b[0mmodel\u001b[0m\u001b[0;34m.\u001b[0m\u001b[0mconv\u001b[0m\u001b[0;34m.\u001b[0m\u001b[0mweight\u001b[0m\u001b[0;34m.\u001b[0m\u001b[0mdata\u001b[0m\u001b[0;34m.\u001b[0m\u001b[0mnumpy\u001b[0m\u001b[0;34m(\u001b[0m\u001b[0;34m)\u001b[0m\u001b[0;34m\u001b[0m\u001b[0m\n\u001b[0m\u001b[1;32m      4\u001b[0m \u001b[0mgrid\u001b[0m \u001b[0;34m=\u001b[0m \u001b[0mvisualize_grid\u001b[0m\u001b[0;34m(\u001b[0m\u001b[0mconv_params\u001b[0m\u001b[0;34m.\u001b[0m\u001b[0mtranspose\u001b[0m\u001b[0;34m(\u001b[0m\u001b[0;36m0\u001b[0m\u001b[0;34m,\u001b[0m \u001b[0;36m2\u001b[0m\u001b[0;34m,\u001b[0m \u001b[0;36m3\u001b[0m\u001b[0;34m,\u001b[0m \u001b[0;36m1\u001b[0m\u001b[0;34m)\u001b[0m\u001b[0;34m)\u001b[0m\u001b[0;34m\u001b[0m\u001b[0m\n\u001b[1;32m      5\u001b[0m \u001b[0mplt\u001b[0m\u001b[0;34m.\u001b[0m\u001b[0mimshow\u001b[0m\u001b[0;34m(\u001b[0m\u001b[0mgrid\u001b[0m\u001b[0;34m.\u001b[0m\u001b[0mastype\u001b[0m\u001b[0;34m(\u001b[0m\u001b[0;34m'uint8'\u001b[0m\u001b[0;34m)\u001b[0m\u001b[0;34m)\u001b[0m\u001b[0;34m\u001b[0m\u001b[0m\n",
      "\u001b[0;32m/home/kishan/anaconda2/lib/python2.7/site-packages/torch/nn/modules/module.pyc\u001b[0m in \u001b[0;36m__getattr__\u001b[0;34m(self, name)\u001b[0m\n\u001b[1;32m    236\u001b[0m                 \u001b[0;32mreturn\u001b[0m \u001b[0mmodules\u001b[0m\u001b[0;34m[\u001b[0m\u001b[0mname\u001b[0m\u001b[0;34m]\u001b[0m\u001b[0;34m\u001b[0m\u001b[0m\n\u001b[1;32m    237\u001b[0m         raise AttributeError(\"'{}' object has no attribute '{}'\".format(\n\u001b[0;32m--> 238\u001b[0;31m             type(self).__name__, name))\n\u001b[0m\u001b[1;32m    239\u001b[0m \u001b[0;34m\u001b[0m\u001b[0m\n\u001b[1;32m    240\u001b[0m     \u001b[0;32mdef\u001b[0m \u001b[0m__setattr__\u001b[0m\u001b[0;34m(\u001b[0m\u001b[0mself\u001b[0m\u001b[0;34m,\u001b[0m \u001b[0mname\u001b[0m\u001b[0;34m,\u001b[0m \u001b[0mvalue\u001b[0m\u001b[0;34m)\u001b[0m\u001b[0;34m:\u001b[0m\u001b[0;34m\u001b[0m\u001b[0m\n",
      "\u001b[0;31mAttributeError\u001b[0m: 'ThreeLayerCNN' object has no attribute 'conv'"
     ]
    }
   ],
   "source": [
    "from dl4cv.vis_utils import visualize_grid\n",
    "\n",
    "conv_params = model.conv.weight.data.numpy()\n",
    "grid = visualize_grid(conv_params.transpose(0, 2, 3, 1))\n",
    "plt.imshow(grid.astype('uint8'))\n",
    "plt.axis('off')\n",
    "plt.gcf().set_size_inches(6, 6)\n",
    "plt.show()"
   ]
  },
  {
   "cell_type": "markdown",
   "metadata": {},
   "source": [
    "# Test your model\n",
    "Run your best model on the validation and test sets. You should achieve above 58% accuracy on the test set."
   ]
  },
  {
   "cell_type": "code",
   "execution_count": 9,
   "metadata": {
    "collapsed": false
   },
   "outputs": [
    {
     "name": "stdout",
     "output_type": "stream",
     "text": [
      "Test set accuracy: 0.633000\n"
     ]
    }
   ],
   "source": [
    "test_loader = torch.utils.data.DataLoader(test_data, batch_size=50, shuffle=False, num_workers=4)\n",
    "\n",
    "scores = []\n",
    "for batch in test_loader:\n",
    "    inputs, labels = Variable(batch[0]), Variable(batch[1])\n",
    "\n",
    "    outputs = model(inputs)\n",
    "    _, preds = torch.max(outputs, 1)\n",
    "    scores.extend((preds == labels).data.numpy())\n",
    "    \n",
    "print 'Test set accuracy: %f' % np.mean(scores)"
   ]
  },
  {
   "cell_type": "markdown",
   "metadata": {},
   "source": [
    "## Save the model\n",
    "\n",
    "When you are satisfied with your training, save the model for submission."
   ]
  },
  {
   "cell_type": "code",
   "execution_count": 10,
   "metadata": {
    "collapsed": false
   },
   "outputs": [
    {
     "name": "stdout",
     "output_type": "stream",
     "text": [
      "Saving model... models/three_layer_cnn.model\n"
     ]
    }
   ],
   "source": [
    "model.save(\"models/three_layer_cnn.model\")"
   ]
  },
  {
   "cell_type": "markdown",
   "metadata": {
    "collapsed": true
   },
   "source": [
    "## Scoring function\n",
    "We will score the model you have just saved based on the classification accuracy on our test dataset. The scoring function should represent the difficulty of obtaining a good test accuracy and should therefore give 0 points for worse results than random guessing, should be linear in a first regime and exponential beyond that. The onset of exponential growth depends on the problem. In that region you get twice as many points for an additional 10% accuracy.\n",
    "\n",
    "For this problem we specifically use the following scoring function:\n",
    "\n",
    "$$f(x) = \\left\\{\n",
    "\t\\begin{array}{ll}\n",
    "\t\t0  & \\mbox{if } x \\leq 0.1 \\\\\n",
    "\t\t100x & \\mbox{if } 0.1 < x \\leq 0.58 \\\\\n",
    "        \\left(\\frac{58}{\\exp(0.58 \\ln(2)/0.1)}\\right) \\exp(x \\ln(2)/0.1) & \\mbox{if } 0.58 < x \\leq 1\n",
    "\t\\end{array}\n",
    "\\right.$$\n",
    "\n",
    "The function can be plotted in the following cell."
   ]
  },
  {
   "cell_type": "code",
   "execution_count": 11,
   "metadata": {
    "collapsed": false
   },
   "outputs": [
    {
     "data": {
      "image/png": "[encoded data removed]",
      "text/plain": [
       "<matplotlib.figure.Figure at 0x7f05f599cc50>"
      ]
     },
     "metadata": {},
     "output_type": "display_data"
    }
   ],
   "source": [
    "from dl4cv.data_utils import scoring_function\n",
    "\n",
    "x = np.linspace(0, 1, num=1000)\n",
    "plt.plot(x, scoring_function(x, lin_exp_boundary=0.58, doubling_rate=0.1))\n",
    "plt.title('Scoring Function')\n",
    "plt.xlabel('Test Accuracy')\n",
    "plt.ylabel('Score')\n",
    "plt.show()"
   ]
  },
  {
   "cell_type": "code",
   "execution_count": null,
   "metadata": {
    "collapsed": true
   },
   "outputs": [],
   "source": []
  }
 ],
 "metadata": {
  "kernelspec": {
   "display_name": "Python 2",
   "language": "python",
   "name": "python2"
  },
  "language_info": {
   "codemirror_mode": {
    "name": "ipython",
    "version": 2
   },
   "file_extension": ".py",
   "mimetype": "text/x-python",
   "name": "python",
   "nbconvert_exporter": "python",
   "pygments_lexer": "ipython2",
   "version": "2.7.13"
  }
 },
 "nbformat": 4,
 "nbformat_minor": 1
}
